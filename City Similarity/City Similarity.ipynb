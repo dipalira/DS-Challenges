{
 "cells": [
  {
   "cell_type": "code",
   "execution_count": 1,
<<<<<<< HEAD
   "metadata": {
    "collapsed": true
   },
=======
   "metadata": {},
>>>>>>> 8c3efbdbaffb5f601e9c6cffaa223ef9a451f770
   "outputs": [],
   "source": [
    "import itertools\n",
    "from collections import Counter\n",
    "import datetime\n",
    "import json\n",
    "import numpy as np\n",
    "import pandas as pd\n",
    "import matplotlib.pyplot as plt\n",
    "plt.style.use('ggplot')\n",
    "from sklearn.preprocessing import normalize\n",
    "from sklearn.decomposition import PCA\n",
    "from sklearn.neighbors import NearestNeighbors\n",
    "import datetime\n",
    "%matplotlib inline"
   ]
  },
  {
   "cell_type": "markdown",
   "metadata": {},
   "source": [
    "## Index\n"
   ]
  },
  {
   "cell_type": "markdown",
   "metadata": {},
   "source": [
    "### Data Cleaning"
   ]
  },
  {
   "cell_type": "code",
   "execution_count": 2,
<<<<<<< HEAD
   "metadata": {
    "collapsed": true
   },
=======
   "metadata": {},
>>>>>>> 8c3efbdbaffb5f601e9c6cffaa223ef9a451f770
   "outputs": [],
   "source": [
    "df = pd.DataFrame(columns= ['session_id','cities','user_id','joining_date','timestamp','country'])\n",
    "def clean_data(i,row):\n",
    "    new = []\n",
    "    new.append(row['session_id'][0])\n",
    "    new.append(row['cities'][0])\n",
    "    user_info = row['user'][0]\n",
    "    new.append(user_info[0]['user_id'])\n",
    "    new.append(user_info[0]['joining_date'])\n",
    "    new.append(datetime.datetime.fromtimestamp(int(row['unix_timestamp'][0])).strftime('%Y-%m-%d %H:%M:%S'))\n",
    "    new.append(user_info[0]['country'])\n",
    "    #print (user_info[0]['joining_date'])\n",
    "    df.loc[i] = new\n",
    "    #print(new[0])"
   ]
  },
  {
   "cell_type": "code",
<<<<<<< HEAD
   "execution_count": 4,
=======
   "execution_count": 3,
>>>>>>> 8c3efbdbaffb5f601e9c6cffaa223ef9a451f770
   "metadata": {},
   "outputs": [],
   "source": [
    "with open('city_search.json') as data_file:\n",
    "    data = json.load(data_file)\n",
    "for i,row in enumerate(data):\n",
    "    clean_data(i,row)\n"
   ]
  },
  {
   "cell_type": "code",
<<<<<<< HEAD
   "execution_count": null,
   "metadata": {},
   "outputs": [],
   "source": [
    "df.head()"
   ]
  },
  {
   "cell_type": "code",
   "execution_count": 5,
=======
   "execution_count": 4,
>>>>>>> 8c3efbdbaffb5f601e9c6cffaa223ef9a451f770
   "metadata": {},
   "outputs": [
    {
     "data": {
      "text/html": [
       "<div>\n",
       "<style scoped>\n",
       "    .dataframe tbody tr th:only-of-type {\n",
       "        vertical-align: middle;\n",
       "    }\n",
       "\n",
       "    .dataframe tbody tr th {\n",
       "        vertical-align: top;\n",
       "    }\n",
       "\n",
       "    .dataframe thead th {\n",
       "        text-align: right;\n",
       "    }\n",
       "</style>\n",
       "<table border=\"1\" class=\"dataframe\">\n",
       "  <thead>\n",
       "    <tr style=\"text-align: right;\">\n",
       "      <th></th>\n",
       "      <th>session_id</th>\n",
       "      <th>cities</th>\n",
       "      <th>user_id</th>\n",
       "      <th>joining_date</th>\n",
       "      <th>timestamp</th>\n",
       "      <th>country</th>\n",
       "    </tr>\n",
       "  </thead>\n",
       "  <tbody>\n",
       "    <tr>\n",
       "      <th>0</th>\n",
       "      <td>X061RFWB06K9V</td>\n",
       "      <td>New York NY, Newark NJ</td>\n",
       "      <td>2024</td>\n",
       "      <td>2015-03-22</td>\n",
       "      <td>2015-09-17 10:28:28</td>\n",
       "      <td>UK</td>\n",
       "    </tr>\n",
       "    <tr>\n",
       "      <th>1</th>\n",
       "      <td>5AZ2X2A9BHH5U</td>\n",
       "      <td>New York NY, Jersey City NJ, Philadelphia PA</td>\n",
       "      <td>2853</td>\n",
       "      <td>2015-03-28</td>\n",
       "      <td>2015-09-04 03:06:31</td>\n",
       "      <td>DE</td>\n",
       "    </tr>\n",
       "    <tr>\n",
       "      <th>2</th>\n",
       "      <td>SHTB4IYAX4PX6</td>\n",
       "      <td>San Antonio TX</td>\n",
       "      <td>10958</td>\n",
       "      <td>2015-03-06</td>\n",
       "      <td>2015-08-29 05:18:10</td>\n",
       "      <td>UK</td>\n",
       "    </tr>\n",
       "    <tr>\n",
       "      <th>3</th>\n",
       "      <td>JBRB8MZGTX3M4</td>\n",
       "      <td>Edmonton AB</td>\n",
       "      <td>7693</td>\n",
       "      <td>2015-03-12</td>\n",
       "      <td>2015-03-25 02:21:03</td>\n",
       "      <td>IT</td>\n",
       "    </tr>\n",
       "    <tr>\n",
       "      <th>4</th>\n",
       "      <td>YJCMPURC2FL9C</td>\n",
       "      <td>Phoenix AZ, Houston TX</td>\n",
       "      <td>7506</td>\n",
       "      <td>2015-02-28</td>\n",
       "      <td>2015-05-02 04:31:07</td>\n",
       "      <td>UK</td>\n",
       "    </tr>\n",
       "  </tbody>\n",
       "</table>\n",
       "</div>"
      ],
      "text/plain": [
<<<<<<< HEAD
       "10"
      ]
     },
     "execution_count": 5,
=======
       "      session_id                                        cities user_id  \\\n",
       "0  X061RFWB06K9V                        New York NY, Newark NJ    2024   \n",
       "1  5AZ2X2A9BHH5U  New York NY, Jersey City NJ, Philadelphia PA    2853   \n",
       "2  SHTB4IYAX4PX6                                San Antonio TX   10958   \n",
       "3  JBRB8MZGTX3M4                                   Edmonton AB    7693   \n",
       "4  YJCMPURC2FL9C                        Phoenix AZ, Houston TX    7506   \n",
       "\n",
       "  joining_date            timestamp country  \n",
       "0   2015-03-22  2015-09-17 10:28:28      UK  \n",
       "1   2015-03-28  2015-09-04 03:06:31      DE  \n",
       "2   2015-03-06  2015-08-29 05:18:10      UK  \n",
       "3   2015-03-12  2015-03-25 02:21:03      IT  \n",
       "4   2015-02-28  2015-05-02 04:31:07      UK  "
      ]
     },
     "execution_count": 4,
>>>>>>> 8c3efbdbaffb5f601e9c6cffaa223ef9a451f770
     "metadata": {},
     "output_type": "execute_result"
    }
   ],
   "source": [
    "df['Time'] = df['timestamp'].apply(lambda x: datetime.datetime.strptime(x,'%Y-%m-%d %H:%M:%S').hour)\n",
    "datetime.datetime.strptime('2015-09-17 10:28:28','%Y-%m-%d %H:%M:%S').hour"
   ]
  },
  {
   "cell_type": "code",
<<<<<<< HEAD
   "execution_count": 6,
   "metadata": {
    "collapsed": true
   },
   "outputs": [],
   "source": [
    "df['country'] = df['country'].replace('', 'missing', regex=True)"
   ]
  },
  {
   "cell_type": "markdown",
   "metadata": {},
   "source": [
    "### Question 1: \n",
    "There was a bug in the code and one country didn't get logged. It just shows up as an empty ﬁeld (\"\"). Can you guess which country was that? How?\n",
    "### Answer\n",
    "We deduce the missing country by the time difference relative the given country. "
   ]
  },
  {
   "cell_type": "code",
   "execution_count": 7,
=======
   "execution_count": 5,
>>>>>>> 8c3efbdbaffb5f601e9c6cffaa223ef9a451f770
   "metadata": {},
   "outputs": [
    {
     "data": {
<<<<<<< HEAD
      "image/png": "iVBORw0KGgoAAAANSUhEUgAAAYsAAAEaCAYAAADg2nttAAAABHNCSVQICAgIfAhkiAAAAAlwSFlz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\n",
      "text/plain": [
       "<Figure size 432x288 with 7 Axes>"
      ]
     },
     "metadata": {},
     "output_type": "display_data"
    }
   ],
   "source": [
    "import seaborn as sns\n",
    "fig, axs = plt.subplots(nrows= 7)\n",
    "countries = ['UK', 'DE', 'IT', 'ES', 'missing', 'US', 'FR']\n",
    "for i,country in enumerate(countries):\n",
    "    sns.countplot(x=\"Time\", data=df[df['country'] == country], palette=\"Greens_d\",ax=axs[i]).set_title(country)\n",
    "plt.show()"
   ]
  },
  {
   "cell_type": "markdown",
   "metadata": {},
   "source": [
    "The missing country seems to have a roughly 12 hr time difference as the activity distribution is the opposite. I would guess the missing country is an Asian country like China or India"
   ]
  },
  {
   "cell_type": "markdown",
   "metadata": {},
   "source": [
    "### Question 2: \n",
    "For each city, ﬁnd the most likely city to be also searched for within the same session.\n",
    "\n"
   ]
  },
  {
   "cell_type": "code",
   "execution_count": null,
   "metadata": {
    "collapsed": true
   },
   "outputs": [],
   "source": [
    "df_city = pd.DataFrame(columns= ['user_id','cities','session_id'])\n",
    "#df_song = df_song.groupby(['cities','user_id']).size().reset_index(name='counts')\n",
    "for index, row in df.iterrows():\n",
    "    city = row['cities'].split(',')\n",
    "    df.loc[index] = "
=======
      "text/plain": [
       "10"
      ]
     },
     "execution_count": 5,
     "metadata": {},
     "output_type": "execute_result"
    }
   ],
   "source": [
    "df['Time'] = df['timestamp'].apply(lambda x: datetime.datetime.strptime(x,'%Y-%m-%d %H:%M:%S').hour)\n",
    "datetime.datetime.strptime('2015-09-17 10:28:28','%Y-%m-%d %H:%M:%S').hour"
>>>>>>> 8c3efbdbaffb5f601e9c6cffaa223ef9a451f770
   ]
  },
  {
   "cell_type": "code",
   "execution_count": 27,
   "metadata": {},
   "outputs": [],
   "source": [
<<<<<<< HEAD
    "df_song.head()"
=======
    "df['country'] = df['country'].replace('', 'missing', regex=True)"
>>>>>>> 8c3efbdbaffb5f601e9c6cffaa223ef9a451f770
   ]
  },
  {
   "cell_type": "code",
   "execution_count": null,
   "metadata": {},
   "outputs": [],
   "source": [
<<<<<<< HEAD
    "print(\"No of unique users\",len(df['user_id'].unique()))\n",
    "## return 196 unique users\n",
    "print(\"No of unique cities\",len(df['cities'].unique()))\n",
    "## return 100 unique songs"
=======
    "### Question 1: \n",
    "There was a bug in the code and one country didn't get logged. It just shows up as an empty ﬁeld (\"\"). Can you guess which country was that? How?\n",
    "### Answer\n",
    "We deduce the missing country by the time difference relative the given country. "
>>>>>>> 8c3efbdbaffb5f601e9c6cffaa223ef9a451f770
   ]
  },
  {
   "cell_type": "code",
<<<<<<< HEAD
   "execution_count": null,
   "metadata": {
    "collapsed": true
   },
   "outputs": [],
   "source": [
    "df_reshape = df_song.pivot(index='user_id', columns='cities', values='counts')\n",
    "df_reshape = df_reshape.fillna(0)"
=======
   "execution_count": 29,
   "metadata": {},
   "outputs": [
    {
     "data": {
      "image/png": "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\n",
      "text/plain": [
       "<matplotlib.figure.Figure at 0x15de1828>"
      ]
     },
     "metadata": {},
     "output_type": "display_data"
    }
   ],
   "source": [
    "import seaborn as sns\n",
    "fig, axs = plt.subplots(nrows= 7)\n",
    "countries = ['UK', 'DE', 'IT', 'ES', 'missing', 'US', 'FR']\n",
    "for i,country in enumerate(countries):\n",
    "    sns.countplot(x=\"Time\", data=df[df['country'] == country], palette=\"Greens_d\",ax=axs[i]).set_title(country)\n",
    "plt.show()"
   ]
  },
  {
   "cell_type": "markdown",
   "metadata": {},
   "source": [
    "The missing country seems to have a roughly 12 hr time difference as the activity distribution is the opposite. I would guess the missing country is an Asian country like China or India"
   ]
  },
  {
   "cell_type": "markdown",
   "metadata": {},
   "source": [
    "### Question 2: \n",
    "For each city, ﬁnd the most likely city to be also searched for within the same session.\n",
    "\n"
>>>>>>> 8c3efbdbaffb5f601e9c6cffaa223ef9a451f770
   ]
  },
  {
   "cell_type": "code",
<<<<<<< HEAD
   "execution_count": null,
   "metadata": {},
   "outputs": [],
   "source": [
    "df_reshape.head()\n"
=======
   "execution_count": 50,
   "metadata": {},
   "outputs": [],
   "source": [
    "df_city = pd.DataFrame(columns= ['user_id','cities','session_id'])\n",
    "#df_song = df_song.groupby(['cities','user_id']).size().reset_index(name='counts')\n",
    "for index, row in df.iterrows():\n",
    "    city = row['cities'].split(',')\n",
    "    DF"
>>>>>>> 8c3efbdbaffb5f601e9c6cffaa223ef9a451f770
   ]
  },
  {
   "cell_type": "code",
<<<<<<< HEAD
   "execution_count": 33,
=======
   "execution_count": 51,
>>>>>>> 8c3efbdbaffb5f601e9c6cffaa223ef9a451f770
   "metadata": {},
   "outputs": [
    {
     "data": {
<<<<<<< HEAD
      "text/plain": [
       "5777"
      ]
     },
     "execution_count": 33,
=======
      "text/html": [
       "<div>\n",
       "<style scoped>\n",
       "    .dataframe tbody tr th:only-of-type {\n",
       "        vertical-align: middle;\n",
       "    }\n",
       "\n",
       "    .dataframe tbody tr th {\n",
       "        vertical-align: top;\n",
       "    }\n",
       "\n",
       "    .dataframe thead th {\n",
       "        text-align: right;\n",
       "    }\n",
       "</style>\n",
       "<table border=\"1\" class=\"dataframe\">\n",
       "  <thead>\n",
       "    <tr style=\"text-align: right;\">\n",
       "      <th></th>\n",
       "      <th>user_id</th>\n",
       "      <th>cities</th>\n",
       "      <th>session_id</th>\n",
       "    </tr>\n",
       "  </thead>\n",
       "  <tbody>\n",
       "    <tr>\n",
       "      <th>0</th>\n",
       "      <td>2024</td>\n",
       "      <td>New York NY, Newark NJ</td>\n",
       "      <td>X061RFWB06K9V</td>\n",
       "    </tr>\n",
       "    <tr>\n",
       "      <th>1</th>\n",
       "      <td>2853</td>\n",
       "      <td>New York NY, Jersey City NJ, Philadelphia PA</td>\n",
       "      <td>5AZ2X2A9BHH5U</td>\n",
       "    </tr>\n",
       "    <tr>\n",
       "      <th>2</th>\n",
       "      <td>10958</td>\n",
       "      <td>San Antonio TX</td>\n",
       "      <td>SHTB4IYAX4PX6</td>\n",
       "    </tr>\n",
       "    <tr>\n",
       "      <th>3</th>\n",
       "      <td>7693</td>\n",
       "      <td>Edmonton AB</td>\n",
       "      <td>JBRB8MZGTX3M4</td>\n",
       "    </tr>\n",
       "    <tr>\n",
       "      <th>4</th>\n",
       "      <td>7506</td>\n",
       "      <td>Phoenix AZ, Houston TX</td>\n",
       "      <td>YJCMPURC2FL9C</td>\n",
       "    </tr>\n",
       "  </tbody>\n",
       "</table>\n",
       "</div>"
      ],
      "text/plain": [
       "  user_id                                        cities     session_id\n",
       "0    2024                        New York NY, Newark NJ  X061RFWB06K9V\n",
       "1    2853  New York NY, Jersey City NJ, Philadelphia PA  5AZ2X2A9BHH5U\n",
       "2   10958                                San Antonio TX  SHTB4IYAX4PX6\n",
       "3    7693                                   Edmonton AB  JBRB8MZGTX3M4\n",
       "4    7506                        Phoenix AZ, Houston TX  YJCMPURC2FL9C"
      ]
     },
     "execution_count": 51,
>>>>>>> 8c3efbdbaffb5f601e9c6cffaa223ef9a451f770
     "metadata": {},
     "output_type": "execute_result"
    }
   ],
   "source": [
<<<<<<< HEAD
    "def getScore(history, similarities):\n",
    "    return sum(history*similarities)/sum(similarities)"
=======
    "df_song.head()"
   ]
  },
  {
   "cell_type": "code",
   "execution_count": 38,
   "metadata": {},
   "outputs": [
    {
     "name": "stdout",
     "output_type": "stream",
     "text": [
      "No of unique users 5777\n",
      "No of unique cities 1329\n"
     ]
    }
   ],
   "source": [
    "print(\"No of unique users\",len(df['user_id'].unique()))\n",
    "## return 196 unique users\n",
    "print(\"No of unique cities\",len(df['cities'].unique()))\n",
    "## return 100 unique songs"
>>>>>>> 8c3efbdbaffb5f601e9c6cffaa223ef9a451f770
   ]
  },
  {
   "cell_type": "code",
<<<<<<< HEAD
   "execution_count": null,
   "metadata": {
    "collapsed": true
   },
   "outputs": [],
   "source": [
    "df_reshapedf_reshap  = df.pivot(index='user_id', columns='cities', values='song_counts')\n",
=======
   "execution_count": 46,
   "metadata": {},
   "outputs": [],
   "source": [
    "df_reshape = df_song.pivot(index='user_id', columns='cities', values='counts')\n",
>>>>>>> 8c3efbdbaffb5f601e9c6cffaa223ef9a451f770
    "df_reshape = df_reshape.fillna(0)"
   ]
  },
  {
   "cell_type": "code",
<<<<<<< HEAD
   "execution_count": 34,
   "metadata": {},
   "outputs": [
    {
     "ename": "NameError",
     "evalue": "name 'df_reshape' is not defined",
     "output_type": "error",
     "traceback": [
      "\u001b[1;31m---------------------------------------------------------------------------\u001b[0m",
      "\u001b[1;31mNameError\u001b[0m                                 Traceback (most recent call last)",
      "\u001b[1;32m<ipython-input-34-180ffc0313b2>\u001b[0m in \u001b[0;36m<module>\u001b[1;34m()\u001b[0m\n\u001b[0;32m      1\u001b[0m \u001b[1;31m# Create a place holder matrix for similarities, and fill in the user name column\u001b[0m\u001b[1;33m\u001b[0m\u001b[1;33m\u001b[0m\u001b[0m\n\u001b[1;32m----> 2\u001b[1;33m \u001b[0mdata_sims\u001b[0m \u001b[1;33m=\u001b[0m \u001b[0mpd\u001b[0m\u001b[1;33m.\u001b[0m\u001b[0mDataFrame\u001b[0m\u001b[1;33m(\u001b[0m\u001b[0mindex\u001b[0m\u001b[1;33m=\u001b[0m\u001b[0mdf_reshape\u001b[0m\u001b[1;33m.\u001b[0m\u001b[0mindex\u001b[0m\u001b[1;33m,\u001b[0m\u001b[0mcolumns\u001b[0m\u001b[1;33m=\u001b[0m\u001b[0mdf_reshape\u001b[0m\u001b[1;33m.\u001b[0m\u001b[0mcolumns\u001b[0m\u001b[1;33m)\u001b[0m\u001b[1;33m\u001b[0m\u001b[0m\n\u001b[0m\u001b[0;32m      3\u001b[0m \u001b[0mdata_sims\u001b[0m\u001b[1;33m.\u001b[0m\u001b[0miloc\u001b[0m\u001b[1;33m[\u001b[0m\u001b[1;33m:\u001b[0m\u001b[1;33m,\u001b[0m\u001b[1;33m:\u001b[0m\u001b[1;36m1\u001b[0m\u001b[1;33m]\u001b[0m \u001b[1;33m=\u001b[0m \u001b[0mdf_reshape\u001b[0m\u001b[1;33m.\u001b[0m\u001b[0miloc\u001b[0m\u001b[1;33m[\u001b[0m\u001b[1;33m:\u001b[0m\u001b[1;33m,\u001b[0m\u001b[1;33m:\u001b[0m\u001b[1;36m1\u001b[0m\u001b[1;33m]\u001b[0m\u001b[1;33m\u001b[0m\u001b[0m\n",
      "\u001b[1;31mNameError\u001b[0m: name 'df_reshape' is not defined"
     ]
    }
   ],
   "source": [
    "# Create a place holder matrix for similarities, and fill in the user name column\n",
    "data_sims = pd.DataFrame(index=df_reshape.index,columns=df_reshape.columns)\n",
    "data_sims.iloc[:,:1] = df_reshape.iloc[:,:1]"
=======
   "execution_count": 47,
   "metadata": {},
   "outputs": [
    {
     "data": {
      "text/html": [
       "<div>\n",
       "<style scoped>\n",
       "    .dataframe tbody tr th:only-of-type {\n",
       "        vertical-align: middle;\n",
       "    }\n",
       "\n",
       "    .dataframe tbody tr th {\n",
       "        vertical-align: top;\n",
       "    }\n",
       "\n",
       "    .dataframe thead th {\n",
       "        text-align: right;\n",
       "    }\n",
       "</style>\n",
       "<table border=\"1\" class=\"dataframe\">\n",
       "  <thead>\n",
       "    <tr style=\"text-align: right;\">\n",
       "      <th>cities</th>\n",
       "      <th>Calgary AB</th>\n",
       "      <th>Calgary AB, Chicago IL</th>\n",
       "      <th>Calgary AB, Edmonton AB</th>\n",
       "      <th>Calgary AB, Edmonton AB, Portland OR</th>\n",
       "      <th>Calgary AB, Edmonton AB, Seattle WA</th>\n",
       "      <th>Calgary AB, Edmonton AB, Seattle WA, Victoria BC</th>\n",
       "      <th>Calgary AB, Edmonton AB, Vancouver BC</th>\n",
       "      <th>Calgary AB, Edmonton AB, Vancouver BC, Seattle WA, Victoria BC</th>\n",
       "      <th>Calgary AB, Edmonton AB, Vancouver BC, Victoria BC</th>\n",
       "      <th>Calgary AB, Edmonton AB, Vancouver BC, Victoria BC, Portland OR</th>\n",
       "      <th>...</th>\n",
       "      <th>Vancouver BC, Victoria BC, Calgary AB, Edmonton AB, Seattle WA</th>\n",
       "      <th>Vancouver BC, Victoria BC, Calgary AB, Portland OR</th>\n",
       "      <th>Vancouver BC, Victoria BC, Edmonton AB</th>\n",
       "      <th>Vancouver BC, Victoria BC, Edmonton AB, Seattle WA</th>\n",
       "      <th>Vancouver BC, Victoria BC, Portland OR</th>\n",
       "      <th>Vancouver BC, Victoria BC, Portland OR, Sacramento CA</th>\n",
       "      <th>Vancouver BC, Victoria BC, Portland OR, Seattle WA</th>\n",
       "      <th>Vancouver BC, Victoria BC, Seattle WA</th>\n",
       "      <th>Vancouver BC, Victoria BC, Seattle WA, Edmonton AB, Portland OR</th>\n",
       "      <th>Vancouver BC, Victoria BC, Seattle WA, Portland OR, Stockton CA, Sacramento CA</th>\n",
       "    </tr>\n",
       "    <tr>\n",
       "      <th>user_id</th>\n",
       "      <th></th>\n",
       "      <th></th>\n",
       "      <th></th>\n",
       "      <th></th>\n",
       "      <th></th>\n",
       "      <th></th>\n",
       "      <th></th>\n",
       "      <th></th>\n",
       "      <th></th>\n",
       "      <th></th>\n",
       "      <th></th>\n",
       "      <th></th>\n",
       "      <th></th>\n",
       "      <th></th>\n",
       "      <th></th>\n",
       "      <th></th>\n",
       "      <th></th>\n",
       "      <th></th>\n",
       "      <th></th>\n",
       "      <th></th>\n",
       "      <th></th>\n",
       "    </tr>\n",
       "  </thead>\n",
       "  <tbody>\n",
       "    <tr>\n",
       "      <th>4</th>\n",
       "      <td>0.0</td>\n",
       "      <td>0.0</td>\n",
       "      <td>0.0</td>\n",
       "      <td>0.0</td>\n",
       "      <td>0.0</td>\n",
       "      <td>0.0</td>\n",
       "      <td>0.0</td>\n",
       "      <td>0.0</td>\n",
       "      <td>0.0</td>\n",
       "      <td>0.0</td>\n",
       "      <td>...</td>\n",
       "      <td>0.0</td>\n",
       "      <td>0.0</td>\n",
       "      <td>0.0</td>\n",
       "      <td>0.0</td>\n",
       "      <td>0.0</td>\n",
       "      <td>0.0</td>\n",
       "      <td>0.0</td>\n",
       "      <td>0.0</td>\n",
       "      <td>0.0</td>\n",
       "      <td>0.0</td>\n",
       "    </tr>\n",
       "    <tr>\n",
       "      <th>5</th>\n",
       "      <td>0.0</td>\n",
       "      <td>0.0</td>\n",
       "      <td>0.0</td>\n",
       "      <td>0.0</td>\n",
       "      <td>0.0</td>\n",
       "      <td>0.0</td>\n",
       "      <td>0.0</td>\n",
       "      <td>0.0</td>\n",
       "      <td>0.0</td>\n",
       "      <td>0.0</td>\n",
       "      <td>...</td>\n",
       "      <td>0.0</td>\n",
       "      <td>0.0</td>\n",
       "      <td>0.0</td>\n",
       "      <td>0.0</td>\n",
       "      <td>0.0</td>\n",
       "      <td>0.0</td>\n",
       "      <td>0.0</td>\n",
       "      <td>0.0</td>\n",
       "      <td>0.0</td>\n",
       "      <td>0.0</td>\n",
       "    </tr>\n",
       "    <tr>\n",
       "      <th>9</th>\n",
       "      <td>0.0</td>\n",
       "      <td>0.0</td>\n",
       "      <td>0.0</td>\n",
       "      <td>0.0</td>\n",
       "      <td>0.0</td>\n",
       "      <td>0.0</td>\n",
       "      <td>0.0</td>\n",
       "      <td>0.0</td>\n",
       "      <td>0.0</td>\n",
       "      <td>0.0</td>\n",
       "      <td>...</td>\n",
       "      <td>0.0</td>\n",
       "      <td>0.0</td>\n",
       "      <td>0.0</td>\n",
       "      <td>0.0</td>\n",
       "      <td>0.0</td>\n",
       "      <td>0.0</td>\n",
       "      <td>0.0</td>\n",
       "      <td>0.0</td>\n",
       "      <td>0.0</td>\n",
       "      <td>0.0</td>\n",
       "    </tr>\n",
       "    <tr>\n",
       "      <th>10</th>\n",
       "      <td>0.0</td>\n",
       "      <td>0.0</td>\n",
       "      <td>0.0</td>\n",
       "      <td>0.0</td>\n",
       "      <td>0.0</td>\n",
       "      <td>0.0</td>\n",
       "      <td>0.0</td>\n",
       "      <td>0.0</td>\n",
       "      <td>0.0</td>\n",
       "      <td>0.0</td>\n",
       "      <td>...</td>\n",
       "      <td>0.0</td>\n",
       "      <td>0.0</td>\n",
       "      <td>0.0</td>\n",
       "      <td>0.0</td>\n",
       "      <td>0.0</td>\n",
       "      <td>0.0</td>\n",
       "      <td>0.0</td>\n",
       "      <td>0.0</td>\n",
       "      <td>0.0</td>\n",
       "      <td>0.0</td>\n",
       "    </tr>\n",
       "    <tr>\n",
       "      <th>11</th>\n",
       "      <td>1.0</td>\n",
       "      <td>0.0</td>\n",
       "      <td>0.0</td>\n",
       "      <td>0.0</td>\n",
       "      <td>0.0</td>\n",
       "      <td>0.0</td>\n",
       "      <td>0.0</td>\n",
       "      <td>0.0</td>\n",
       "      <td>0.0</td>\n",
       "      <td>0.0</td>\n",
       "      <td>...</td>\n",
       "      <td>0.0</td>\n",
       "      <td>0.0</td>\n",
       "      <td>0.0</td>\n",
       "      <td>0.0</td>\n",
       "      <td>0.0</td>\n",
       "      <td>0.0</td>\n",
       "      <td>0.0</td>\n",
       "      <td>0.0</td>\n",
       "      <td>0.0</td>\n",
       "      <td>0.0</td>\n",
       "    </tr>\n",
       "  </tbody>\n",
       "</table>\n",
       "<p>5 rows × 1329 columns</p>\n",
       "</div>"
      ],
      "text/plain": [
       "cities   Calgary AB  Calgary AB, Chicago IL  Calgary AB, Edmonton AB  \\\n",
       "user_id                                                                \n",
       "4               0.0                     0.0                      0.0   \n",
       "5               0.0                     0.0                      0.0   \n",
       "9               0.0                     0.0                      0.0   \n",
       "10              0.0                     0.0                      0.0   \n",
       "11              1.0                     0.0                      0.0   \n",
       "\n",
       "cities   Calgary AB, Edmonton AB, Portland OR  \\\n",
       "user_id                                         \n",
       "4                                         0.0   \n",
       "5                                         0.0   \n",
       "9                                         0.0   \n",
       "10                                        0.0   \n",
       "11                                        0.0   \n",
       "\n",
       "cities   Calgary AB, Edmonton AB, Seattle WA  \\\n",
       "user_id                                        \n",
       "4                                        0.0   \n",
       "5                                        0.0   \n",
       "9                                        0.0   \n",
       "10                                       0.0   \n",
       "11                                       0.0   \n",
       "\n",
       "cities   Calgary AB, Edmonton AB, Seattle WA, Victoria BC  \\\n",
       "user_id                                                     \n",
       "4                                                     0.0   \n",
       "5                                                     0.0   \n",
       "9                                                     0.0   \n",
       "10                                                    0.0   \n",
       "11                                                    0.0   \n",
       "\n",
       "cities   Calgary AB, Edmonton AB, Vancouver BC  \\\n",
       "user_id                                          \n",
       "4                                          0.0   \n",
       "5                                          0.0   \n",
       "9                                          0.0   \n",
       "10                                         0.0   \n",
       "11                                         0.0   \n",
       "\n",
       "cities   Calgary AB, Edmonton AB, Vancouver BC, Seattle WA, Victoria BC  \\\n",
       "user_id                                                                   \n",
       "4                                                      0.0                \n",
       "5                                                      0.0                \n",
       "9                                                      0.0                \n",
       "10                                                     0.0                \n",
       "11                                                     0.0                \n",
       "\n",
       "cities   Calgary AB, Edmonton AB, Vancouver BC, Victoria BC  \\\n",
       "user_id                                                       \n",
       "4                                                      0.0    \n",
       "5                                                      0.0    \n",
       "9                                                      0.0    \n",
       "10                                                     0.0    \n",
       "11                                                     0.0    \n",
       "\n",
       "cities   Calgary AB, Edmonton AB, Vancouver BC, Victoria BC, Portland OR  \\\n",
       "user_id                                                                    \n",
       "4                                                      0.0                 \n",
       "5                                                      0.0                 \n",
       "9                                                      0.0                 \n",
       "10                                                     0.0                 \n",
       "11                                                     0.0                 \n",
       "\n",
       "cities                                        ...                                        \\\n",
       "user_id                                       ...                                         \n",
       "4                                             ...                                         \n",
       "5                                             ...                                         \n",
       "9                                             ...                                         \n",
       "10                                            ...                                         \n",
       "11                                            ...                                         \n",
       "\n",
       "cities   Vancouver BC, Victoria BC, Calgary AB, Edmonton AB, Seattle WA  \\\n",
       "user_id                                                                   \n",
       "4                                                      0.0                \n",
       "5                                                      0.0                \n",
       "9                                                      0.0                \n",
       "10                                                     0.0                \n",
       "11                                                     0.0                \n",
       "\n",
       "cities   Vancouver BC, Victoria BC, Calgary AB, Portland OR  \\\n",
       "user_id                                                       \n",
       "4                                                      0.0    \n",
       "5                                                      0.0    \n",
       "9                                                      0.0    \n",
       "10                                                     0.0    \n",
       "11                                                     0.0    \n",
       "\n",
       "cities   Vancouver BC, Victoria BC, Edmonton AB  \\\n",
       "user_id                                           \n",
       "4                                           0.0   \n",
       "5                                           0.0   \n",
       "9                                           0.0   \n",
       "10                                          0.0   \n",
       "11                                          0.0   \n",
       "\n",
       "cities   Vancouver BC, Victoria BC, Edmonton AB, Seattle WA  \\\n",
       "user_id                                                       \n",
       "4                                                      0.0    \n",
       "5                                                      0.0    \n",
       "9                                                      0.0    \n",
       "10                                                     0.0    \n",
       "11                                                     0.0    \n",
       "\n",
       "cities   Vancouver BC, Victoria BC, Portland OR  \\\n",
       "user_id                                           \n",
       "4                                           0.0   \n",
       "5                                           0.0   \n",
       "9                                           0.0   \n",
       "10                                          0.0   \n",
       "11                                          0.0   \n",
       "\n",
       "cities   Vancouver BC, Victoria BC, Portland OR, Sacramento CA  \\\n",
       "user_id                                                          \n",
       "4                                                      0.0       \n",
       "5                                                      0.0       \n",
       "9                                                      0.0       \n",
       "10                                                     0.0       \n",
       "11                                                     0.0       \n",
       "\n",
       "cities   Vancouver BC, Victoria BC, Portland OR, Seattle WA  \\\n",
       "user_id                                                       \n",
       "4                                                      0.0    \n",
       "5                                                      0.0    \n",
       "9                                                      0.0    \n",
       "10                                                     0.0    \n",
       "11                                                     0.0    \n",
       "\n",
       "cities   Vancouver BC, Victoria BC, Seattle WA  \\\n",
       "user_id                                          \n",
       "4                                          0.0   \n",
       "5                                          0.0   \n",
       "9                                          0.0   \n",
       "10                                         0.0   \n",
       "11                                         0.0   \n",
       "\n",
       "cities   Vancouver BC, Victoria BC, Seattle WA, Edmonton AB, Portland OR  \\\n",
       "user_id                                                                    \n",
       "4                                                      0.0                 \n",
       "5                                                      0.0                 \n",
       "9                                                      0.0                 \n",
       "10                                                     0.0                 \n",
       "11                                                     0.0                 \n",
       "\n",
       "cities   Vancouver BC, Victoria BC, Seattle WA, Portland OR, Stockton CA, Sacramento CA  \n",
       "user_id                                                                                  \n",
       "4                                                      0.0                               \n",
       "5                                                      0.0                               \n",
       "9                                                      0.0                               \n",
       "10                                                     0.0                               \n",
       "11                                                     0.0                               \n",
       "\n",
       "[5 rows x 1329 columns]"
      ]
     },
     "execution_count": 47,
     "metadata": {},
     "output_type": "execute_result"
    }
   ],
   "source": [
    "df_reshape.head()\n"
>>>>>>> 8c3efbdbaffb5f601e9c6cffaa223ef9a451f770
   ]
  },
  {
   "cell_type": "code",
<<<<<<< HEAD
   "execution_count": 53,
=======
   "execution_count": 33,
>>>>>>> 8c3efbdbaffb5f601e9c6cffaa223ef9a451f770
   "metadata": {},
   "outputs": [
    {
     "data": {
      "text/plain": [
<<<<<<< HEAD
       "['New York NY', ' Newark NJ']"
      ]
     },
     "execution_count": 53,
=======
       "5777"
      ]
     },
     "execution_count": 33,
>>>>>>> 8c3efbdbaffb5f601e9c6cffaa223ef9a451f770
     "metadata": {},
     "output_type": "execute_result"
    }
   ],
   "source": [
<<<<<<< HEAD
    "df['cities'][0].split(',')"
=======
    "def getScore(history, similarities):\n",
    "    return sum(history*similarities)/sum(similarities)"
>>>>>>> 8c3efbdbaffb5f601e9c6cffaa223ef9a451f770
   ]
  },
  {
   "cell_type": "code",
   "execution_count": null,
   "metadata": {},
   "outputs": [],
   "source": [
    "df_reshapedf_reshap  = df.pivot(index='user_id', columns='cities', values='song_counts')\n",
    "df_reshape = df_reshape.fillna(0)"
   ]
  },
  {
   "cell_type": "code",
   "execution_count": 34,
   "metadata": {},
   "outputs": [
    {
     "ename": "NameError",
     "evalue": "name 'df_reshape' is not defined",
     "output_type": "error",
     "traceback": [
      "\u001b[1;31m---------------------------------------------------------------------------\u001b[0m",
      "\u001b[1;31mNameError\u001b[0m                                 Traceback (most recent call last)",
      "\u001b[1;32m<ipython-input-34-180ffc0313b2>\u001b[0m in \u001b[0;36m<module>\u001b[1;34m()\u001b[0m\n\u001b[0;32m      1\u001b[0m \u001b[1;31m# Create a place holder matrix for similarities, and fill in the user name column\u001b[0m\u001b[1;33m\u001b[0m\u001b[1;33m\u001b[0m\u001b[0m\n\u001b[1;32m----> 2\u001b[1;33m \u001b[0mdata_sims\u001b[0m \u001b[1;33m=\u001b[0m \u001b[0mpd\u001b[0m\u001b[1;33m.\u001b[0m\u001b[0mDataFrame\u001b[0m\u001b[1;33m(\u001b[0m\u001b[0mindex\u001b[0m\u001b[1;33m=\u001b[0m\u001b[0mdf_reshape\u001b[0m\u001b[1;33m.\u001b[0m\u001b[0mindex\u001b[0m\u001b[1;33m,\u001b[0m\u001b[0mcolumns\u001b[0m\u001b[1;33m=\u001b[0m\u001b[0mdf_reshape\u001b[0m\u001b[1;33m.\u001b[0m\u001b[0mcolumns\u001b[0m\u001b[1;33m)\u001b[0m\u001b[1;33m\u001b[0m\u001b[0m\n\u001b[0m\u001b[0;32m      3\u001b[0m \u001b[0mdata_sims\u001b[0m\u001b[1;33m.\u001b[0m\u001b[0miloc\u001b[0m\u001b[1;33m[\u001b[0m\u001b[1;33m:\u001b[0m\u001b[1;33m,\u001b[0m\u001b[1;33m:\u001b[0m\u001b[1;36m1\u001b[0m\u001b[1;33m]\u001b[0m \u001b[1;33m=\u001b[0m \u001b[0mdf_reshape\u001b[0m\u001b[1;33m.\u001b[0m\u001b[0miloc\u001b[0m\u001b[1;33m[\u001b[0m\u001b[1;33m:\u001b[0m\u001b[1;33m,\u001b[0m\u001b[1;33m:\u001b[0m\u001b[1;36m1\u001b[0m\u001b[1;33m]\u001b[0m\u001b[1;33m\u001b[0m\u001b[0m\n",
      "\u001b[1;31mNameError\u001b[0m: name 'df_reshape' is not defined"
     ]
    }
   ],
   "source": [
    "# Create a place holder matrix for similarities, and fill in the user name column\n",
    "data_sims = pd.DataFrame(index=df_reshape.index,columns=df_reshape.columns)\n",
    "data_sims.iloc[:,:1] = df_reshape.iloc[:,:1]"
   ]
  },
  {
   "cell_type": "code",
   "execution_count": 53,
   "metadata": {},
   "outputs": [
    {
     "data": {
      "text/plain": [
       "['New York NY', ' Newark NJ']"
      ]
     },
     "execution_count": 53,
     "metadata": {},
     "output_type": "execute_result"
    }
   ],
   "source": [
    "df['cities'][0].split(',')"
   ]
  },
  {
   "cell_type": "code",
   "execution_count": null,
   "metadata": {},
   "outputs": [],
   "source": []
  }
 ],
 "metadata": {
  "kernelspec": {
   "display_name": "Python 3",
   "language": "python",
   "name": "python3"
  },
  "language_info": {
   "codemirror_mode": {
    "name": "ipython",
    "version": 3
   },
   "file_extension": ".py",
   "mimetype": "text/x-python",
   "name": "python",
   "nbconvert_exporter": "python",
   "pygments_lexer": "ipython3",
   "version": "3.6.4"
  }
 },
 "nbformat": 4,
 "nbformat_minor": 2
}
