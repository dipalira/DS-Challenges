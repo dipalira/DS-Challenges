{
 "cells": [
  {
   "cell_type": "code",
   "execution_count": 147,
   "metadata": {},
   "outputs": [],
   "source": [
    "import numpy as np\n",
    "import pandas as pd\n",
    "import scipy.stats as ss\n",
    "import seaborn as sns\n",
    "from sklearn.preprocessing import LabelEncoder\n",
    "from sklearn import metrics\n",
    "from sklearn.cross_validation import  train_test_split\n",
    "from sklearn.metrics import mean_squared_error,mean_absolute_error,r2_score\n",
    "from sklearn.ensemble import RandomForestRegressor\n",
    "\n",
    "import matplotlib.pyplot as plt\n",
    "plt.style.use('ggplot')\n",
    "%matplotlib inline"
   ]
  },
  {
   "cell_type": "code",
   "execution_count": 148,
   "metadata": {
    "collapsed": true
   },
   "outputs": [],
   "source": [
    "allemp=pd.read_csv(\"all_employees.csv\")"
   ]
  },
  {
   "cell_type": "markdown",
   "metadata": {},
   "source": [
    "### Feature Engineering"
   ]
  },
  {
   "cell_type": "markdown",
   "metadata": {},
   "source": [
    "* Convert department levels to numbers. As the lower the department the lower their salaries would be. Hence, the initial ranking needs to be present in the numeric. *Same is done for degree_level*\n",
    "* Also, We removed the CEO, as it might act as an outlier."
   ]
  },
  {
   "cell_type": "code",
   "execution_count": 149,
   "metadata": {},
   "outputs": [],
   "source": [
    "#Convert categories to ordered numerics\n",
    "level_types = ['IC','MM',\"D\",\"VP\",\"E\",\"CEO\"]\n",
    "allemp['level_num'] = allemp.level.astype(\"category\",ordered=True,categories=types).cat.codes\n",
    "edu_types = ['High_School','Bachelor','Master','PhD']\n",
    "allemp['degree_num'] = allemp.degree_level.astype(\"category\",ordered=True,categories=edu_types).cat.codes\n",
    "\n",
    "#Removing Ceo\n",
    "allemp = allemp[allemp['level'] != 'CEO']"
   ]
  },
  {
   "cell_type": "code",
   "execution_count": 150,
   "metadata": {},
   "outputs": [],
   "source": [
    "#Convert Gender to dummies\n",
    "allemp = pd.get_dummies(allemp, columns=['sex','dept'])\n"
   ]
  },
  {
   "cell_type": "code",
   "execution_count": 151,
   "metadata": {},
   "outputs": [
    {
     "data": {
      "text/html": [
       "<div>\n",
       "<style>\n",
       "    .dataframe thead tr:only-child th {\n",
       "        text-align: right;\n",
       "    }\n",
       "\n",
       "    .dataframe thead th {\n",
       "        text-align: left;\n",
       "    }\n",
       "\n",
       "    .dataframe tbody tr th {\n",
       "        vertical-align: top;\n",
       "    }\n",
       "</style>\n",
       "<table border=\"1\" class=\"dataframe\">\n",
       "  <thead>\n",
       "    <tr style=\"text-align: right;\">\n",
       "      <th></th>\n",
       "      <th>employee_id</th>\n",
       "      <th>signing_bonus</th>\n",
       "      <th>salary</th>\n",
       "      <th>degree_level</th>\n",
       "      <th>yrs_experience</th>\n",
       "      <th>boss_id</th>\n",
       "      <th>level</th>\n",
       "      <th>n_subordinates</th>\n",
       "      <th>level_num</th>\n",
       "      <th>degree_num</th>\n",
       "      <th>sex_F</th>\n",
       "      <th>sex_M</th>\n",
       "      <th>dept_HR</th>\n",
       "      <th>dept_engineering</th>\n",
       "      <th>dept_marketing</th>\n",
       "      <th>dept_sales</th>\n",
       "    </tr>\n",
       "  </thead>\n",
       "  <tbody>\n",
       "    <tr>\n",
       "      <th>0</th>\n",
       "      <td>138719</td>\n",
       "      <td>0</td>\n",
       "      <td>273.0</td>\n",
       "      <td>Master</td>\n",
       "      <td>2</td>\n",
       "      <td>43602</td>\n",
       "      <td>IC</td>\n",
       "      <td>0</td>\n",
       "      <td>0</td>\n",
       "      <td>2</td>\n",
       "      <td>0</td>\n",
       "      <td>1</td>\n",
       "      <td>0</td>\n",
       "      <td>1</td>\n",
       "      <td>0</td>\n",
       "      <td>0</td>\n",
       "    </tr>\n",
       "    <tr>\n",
       "      <th>1</th>\n",
       "      <td>3192</td>\n",
       "      <td>0</td>\n",
       "      <td>301.0</td>\n",
       "      <td>Bachelor</td>\n",
       "      <td>1</td>\n",
       "      <td>87847</td>\n",
       "      <td>IC</td>\n",
       "      <td>0</td>\n",
       "      <td>0</td>\n",
       "      <td>1</td>\n",
       "      <td>1</td>\n",
       "      <td>0</td>\n",
       "      <td>0</td>\n",
       "      <td>0</td>\n",
       "      <td>0</td>\n",
       "      <td>1</td>\n",
       "    </tr>\n",
       "    <tr>\n",
       "      <th>2</th>\n",
       "      <td>114657</td>\n",
       "      <td>0</td>\n",
       "      <td>261.0</td>\n",
       "      <td>Master</td>\n",
       "      <td>2</td>\n",
       "      <td>180854</td>\n",
       "      <td>IC</td>\n",
       "      <td>0</td>\n",
       "      <td>0</td>\n",
       "      <td>2</td>\n",
       "      <td>1</td>\n",
       "      <td>0</td>\n",
       "      <td>0</td>\n",
       "      <td>0</td>\n",
       "      <td>0</td>\n",
       "      <td>1</td>\n",
       "    </tr>\n",
       "    <tr>\n",
       "      <th>3</th>\n",
       "      <td>29039</td>\n",
       "      <td>0</td>\n",
       "      <td>86.0</td>\n",
       "      <td>High_School</td>\n",
       "      <td>4</td>\n",
       "      <td>88370</td>\n",
       "      <td>IC</td>\n",
       "      <td>0</td>\n",
       "      <td>0</td>\n",
       "      <td>0</td>\n",
       "      <td>1</td>\n",
       "      <td>0</td>\n",
       "      <td>1</td>\n",
       "      <td>0</td>\n",
       "      <td>0</td>\n",
       "      <td>0</td>\n",
       "    </tr>\n",
       "    <tr>\n",
       "      <th>4</th>\n",
       "      <td>118607</td>\n",
       "      <td>0</td>\n",
       "      <td>126.0</td>\n",
       "      <td>Bachelor</td>\n",
       "      <td>3</td>\n",
       "      <td>23565</td>\n",
       "      <td>IC</td>\n",
       "      <td>0</td>\n",
       "      <td>0</td>\n",
       "      <td>1</td>\n",
       "      <td>1</td>\n",
       "      <td>0</td>\n",
       "      <td>0</td>\n",
       "      <td>0</td>\n",
       "      <td>0</td>\n",
       "      <td>1</td>\n",
       "    </tr>\n",
       "  </tbody>\n",
       "</table>\n",
       "</div>"
      ],
      "text/plain": [
       "   employee_id  signing_bonus  salary degree_level  yrs_experience  boss_id  \\\n",
       "0       138719              0   273.0       Master               2    43602   \n",
       "1         3192              0   301.0     Bachelor               1    87847   \n",
       "2       114657              0   261.0       Master               2   180854   \n",
       "3        29039              0    86.0  High_School               4    88370   \n",
       "4       118607              0   126.0     Bachelor               3    23565   \n",
       "\n",
       "  level  n_subordinates  level_num  degree_num  sex_F  sex_M  dept_HR  \\\n",
       "0    IC               0          0           2      0      1        0   \n",
       "1    IC               0          0           1      1      0        0   \n",
       "2    IC               0          0           2      1      0        0   \n",
       "3    IC               0          0           0      1      0        1   \n",
       "4    IC               0          0           1      1      0        0   \n",
       "\n",
       "   dept_engineering  dept_marketing  dept_sales  \n",
       "0                 1               0           0  \n",
       "1                 0               0           1  \n",
       "2                 0               0           1  \n",
       "3                 0               0           0  \n",
       "4                 0               0           1  "
      ]
     },
     "execution_count": 151,
     "metadata": {},
     "output_type": "execute_result"
    }
   ],
   "source": [
    "allemp.head()"
   ]
  },
  {
   "cell_type": "code",
   "execution_count": 152,
   "metadata": {},
   "outputs": [
    {
     "data": {
      "text/plain": [
       "<matplotlib.axes._subplots.AxesSubplot at 0x2296b002748>"
      ]
     },
     "execution_count": 152,
     "metadata": {},
     "output_type": "execute_result"
    },
    {
     "data": {
      "image/png": "[encoded data removed]",
      "text/plain": [
       "<Figure size 432x288 with 1 Axes>"
      ]
     },
     "metadata": {},
     "output_type": "display_data"
    }
   ],
   "source": [
    "allemp['salary'].plot.hist(bins=50)"
   ]
  },
  {
   "cell_type": "code",
   "execution_count": 153,
   "metadata": {},
   "outputs": [],
   "source": [
    "#Target variable is highly skewed so we will log transform \n"
   ]
  },
  {
   "cell_type": "code",
   "execution_count": 154,
   "metadata": {},
   "outputs": [
    {
     "data": {
      "text/plain": [
       "<matplotlib.axes._subplots.AxesSubplot at 0x2296c44ac88>"
      ]
     },
     "execution_count": 154,
     "metadata": {},
     "output_type": "execute_result"
    },
    {
     "data": {
      "image/png": "[encoded data removed]",
      "text/plain": [
       "<Figure size 432x288 with 1 Axes>"
      ]
     },
     "metadata": {},
     "output_type": "display_data"
    }
   ],
   "source": [
    "#Target variable is now more symmetrical than before \n",
    "allemp['salary'].plot.hist(bins=50)"
   ]
  },
  {
   "cell_type": "markdown",
   "metadata": {},
   "source": [
    "### Model "
   ]
  },
  {
   "cell_type": "code",
   "execution_count": 155,
   "metadata": {},
   "outputs": [],
   "source": [
    "allemp = allemp.drop( ['degree_level','boss_id', 'level','employee_id'], axis = 1)"
   ]
  },
  {
   "cell_type": "code",
   "execution_count": 156,
   "metadata": {},
   "outputs": [],
   "source": [
    "allemp['salary'] = allemp['salary'].apply(np.log)"
   ]
  },
  {
   "cell_type": "markdown",
   "metadata": {},
   "source": [
    "*Model 1 - Linear Regression"
   ]
  },
  {
   "cell_type": "code",
   "execution_count": 157,
   "metadata": {},
   "outputs": [],
   "source": [
    "df = allemp\n",
    "from sklearn import linear_model\n",
    "reg=linear_model.LinearRegression()\n",
    "X_2 = df.drop(['salary'], axis = 1)\n",
    "y_2= df.salary\n",
    "X_train, X_test, y_train, y_test = train_test_split(X_2, y_2, test_size=0.2, random_state=101)\n",
    "reg.fit(X_train,y_train)\n",
    "predictions =reg.predict(X_test)"
   ]
  },
  {
   "cell_type": "code",
   "execution_count": 158,
   "metadata": {},
   "outputs": [
    {
     "name": "stdout",
     "output_type": "stream",
     "text": [
      "RMSE: 74.5319839574\n"
     ]
    }
   ],
   "source": [
    "#Transform back to original scale\n",
    "#result = pd.DataFrame({'ytrue': np.exp(y_test),'ypred': np.exp(predictions)})\n",
    "#print('RMSE:', np.sqrt(metrics.mean_squared_error(y_test, predictions)))\n",
    "print('RMSE:', np.sqrt(metrics.mean_squared_error(np.exp(y_test), np.exp(predictions))))"
   ]
  },
  {
   "cell_type": "markdown",
   "metadata": {},
   "source": [
    "*Model -2 Random Forest "
   ]
  },
  {
   "cell_type": "code",
   "execution_count": 159,
   "metadata": {},
   "outputs": [
    {
     "data": {
      "text/plain": [
       "RandomForestRegressor(bootstrap=True, criterion='mse', max_depth=None,\n",
       "           max_features='auto', max_leaf_nodes=None,\n",
       "           min_impurity_decrease=0.0, min_impurity_split=None,\n",
       "           min_samples_leaf=1, min_samples_split=2,\n",
       "           min_weight_fraction_leaf=0.0, n_estimators=10, n_jobs=1,\n",
       "           oob_score=False, random_state=None, verbose=0, warm_start=False)"
      ]
     },
     "execution_count": 159,
     "metadata": {},
     "output_type": "execute_result"
    }
   ],
   "source": [
    "X_2 = df.drop(['salary'], axis = 1)\n",
    "y_2= df.salary\n",
    "X_train, X_test, y_train, y_test = train_test_split(X_2, y_2, test_size=0.2, random_state=101)\n",
    "rf = RandomForestRegressor()\n",
    "rf.fit(X_train, y_train)"
   ]
  },
  {
   "cell_type": "code",
   "execution_count": 160,
   "metadata": {},
   "outputs": [
    {
     "name": "stdout",
     "output_type": "stream",
     "text": [
      "RMSE: 78.0065372456\n"
     ]
    }
   ],
   "source": [
    "predictions_2 =rf.predict(X_test)\n",
    "print('RMSE:', np.sqrt(metrics.mean_squared_error(np.exp(y_test), np.exp(predictions_2))))"
   ]
  },
  {
   "cell_type": "code",
   "execution_count": 161,
   "metadata": {},
   "outputs": [],
   "source": [
    "#Tuning RANDOM Foreset Model \n",
    "from sklearn.model_selection import RandomizedSearchCV\n",
    "# Number of trees in random forest\n",
    "n_estimators = [int(x) for x in np.linspace(start = 50, stop = 300, num = 4)]\n",
    "# Number of features to consider at every split\n",
    "#max_features = ['auto', 'sqrt']\n",
    "# Maximum number of levels in tree\n",
    "max_depth = [int(x) for x in np.linspace(5, 50, num = 5)]\n",
    "#max_depth.append(None)\n",
    "# Minimum number of samples required to split a node\n",
    "min_samples_split = [2, 5, 10]\n",
    "# Minimum number of samples required at each leaf node\n",
    "#min_samples_leaf = [1, 2, 4]\n",
    "# Method of selecting samples for training each tree\n",
    "#bootstrap = [True, False]\n",
    "\n",
    "# Create the random grid\n",
    "random_grid = {'n_estimators': n_estimators,\n",
    "               'max_depth': max_depth, 'min_samples_split': min_samples_split}\n"
   ]
  },
  {
   "cell_type": "code",
   "execution_count": 162,
   "metadata": {},
   "outputs": [
    {
     "name": "stdout",
     "output_type": "stream",
     "text": [
      "Fitting 5 folds for each of 10 candidates, totalling 50 fits\n"
     ]
    },
    {
     "name": "stderr",
     "output_type": "stream",
     "text": [
      "[Parallel(n_jobs=-1)]: Done  33 tasks      | elapsed:   17.9s\n",
      "[Parallel(n_jobs=-1)]: Done  50 out of  50 | elapsed:   22.9s finished\n"
     ]
    },
    {
     "data": {
      "text/plain": [
       "RandomizedSearchCV(cv=5, error_score='raise',\n",
       "          estimator=RandomForestRegressor(bootstrap=True, criterion='mse', max_depth=None,\n",
       "           max_features='auto', max_leaf_nodes=None,\n",
       "           min_impurity_decrease=0.0, min_impurity_split=None,\n",
       "           min_samples_leaf=1, min_samples_split=2,\n",
       "           min_weight_fraction_leaf=0.0, n_estimators=10, n_jobs=1,\n",
       "           oob_score=False, random_state=None, verbose=0, warm_start=False),\n",
       "          fit_params=None, iid=True, n_iter=10, n_jobs=-1,\n",
       "          param_distributions={'n_estimators': [50, 133, 216, 300], 'max_depth': [5, 16, 27, 38, 50], 'min_samples_split': [2, 5, 10]},\n",
       "          pre_dispatch='2*n_jobs', random_state=42, refit=True,\n",
       "          return_train_score=True, scoring=None, verbose=2)"
      ]
     },
     "execution_count": 162,
     "metadata": {},
     "output_type": "execute_result"
    }
   ],
   "source": [
    "# Use the random grid to search for best hyperparameters\n",
    "# First create the base model to tune\n",
    "rf = RandomForestRegressor()\n",
    "# Random search of parameters, using 3 fold cross validation, \n",
    "# search across 100 different combinations, and use all available cores\n",
    "rf_random = RandomizedSearchCV(estimator = rf, param_distributions = random_grid, n_iter = 10, cv = 5, verbose=2, random_state=42, n_jobs = -1)\n",
    "# Fit the random search model\n",
    "rf_random.fit(X_train,y_train)"
   ]
  },
  {
   "cell_type": "code",
   "execution_count": 163,
   "metadata": {},
   "outputs": [],
   "source": [
    "params = rf_random.best_params_"
   ]
  },
  {
   "cell_type": "code",
   "execution_count": 164,
   "metadata": {},
   "outputs": [
    {
     "data": {
      "text/plain": [
       "RandomForestRegressor(bootstrap=True, criterion='mse', max_depth=5,\n",
       "           max_features='auto', max_leaf_nodes=None,\n",
       "           min_impurity_decrease=0.0, min_impurity_split=None,\n",
       "           min_samples_leaf=1, min_samples_split=2,\n",
       "           min_weight_fraction_leaf=0.0, n_estimators=50, n_jobs=1,\n",
       "           oob_score=False, random_state=None, verbose=0, warm_start=False)"
      ]
     },
     "execution_count": 164,
     "metadata": {},
     "output_type": "execute_result"
    }
   ],
   "source": [
    "#make model with tuned parameter\n",
    "X_3 = df.drop(['salary'], axis = 1)\n",
    "y_3= df.salary\n",
    "X_train, X_test, y_train, y_test = train_test_split(X_3, y_3, test_size=0.2, random_state=101)\n",
    "from sklearn.ensemble import RandomForestRegressor\n",
    "rf = RandomForestRegressor( max_depth=  params['max_depth'],n_estimators= params['n_estimators'])\n",
    "rf.fit(X_train, y_train)"
   ]
  },
  {
   "cell_type": "code",
   "execution_count": 165,
   "metadata": {},
   "outputs": [
    {
     "name": "stdout",
     "output_type": "stream",
     "text": [
      "name                    score\n",
      "dept_HR           0.882239\n",
      "dept_engineering  0.0811734\n",
      "n_subordinates    0.0195001\n",
      "yrs_experience    0.00982653\n",
      "level_num         0.00247826\n",
      "degree_num        0.00200668\n",
      "signing_bonus     0.00104244\n",
      "sex_F             0.000623532\n",
      "dept_marketing    0.000494397\n",
      "sex_M             0.000414325\n",
      "dept_sales        0.000200911\n"
     ]
    }
   ],
   "source": [
    "#Best features \n",
    "from tabulate import tabulate\n",
    "headers = [\"name\", \"score\"]\n",
    "values = sorted(zip(X_train.columns, rf.feature_importances_), key=lambda x: x[1] * -1)\n",
    "print(tabulate(values, headers, tablefmt=\"plain\"))"
   ]
  },
  {
   "cell_type": "code",
   "execution_count": 77,
   "metadata": {},
   "outputs": [
    {
     "name": "stdout",
     "output_type": "stream",
     "text": [
      "RMSE: 0.39662023856027206\n"
     ]
    }
   ],
   "source": [
    "predictions_2 =rf.predict(X_test)\n",
    "print('RMSE:', np.sqrt(metrics.mean_squared_error(y_test, predictions_2)))"
   ]
  },
  {
   "cell_type": "markdown",
   "metadata": {},
   "source": [
    "GBM"
   ]
  },
  {
   "cell_type": "code",
   "execution_count": 166,
   "metadata": {
    "collapsed": true
   },
   "outputs": [],
   "source": [
    "#base case error without tuning \n",
    "from sklearn.metrics import mean_squared_error,r2_score\n",
    "from sklearn.ensemble import GradientBoostingRegressor\n",
    "params = {'n_estimators': 500, 'max_depth': 6,\n",
    "        'learning_rate': 0.1, 'loss': 'huber','alpha':0.95}\n",
    "clf = GradientBoostingRegressor(**params).fit(X_train, y_train)"
   ]
  },
  {
   "cell_type": "code",
   "execution_count": 167,
   "metadata": {},
   "outputs": [
    {
     "data": {
      "text/plain": [
       "0.41812879505370087"
      ]
     },
     "execution_count": 167,
     "metadata": {},
     "output_type": "execute_result"
    }
   ],
   "source": [
    "rmse = np.sqrt(mean_squared_error(y_test,clf.predict(X_test)))\n",
    "rmse"
   ]
  },
  {
   "cell_type": "code",
   "execution_count": 168,
   "metadata": {},
   "outputs": [
    {
     "name": "stderr",
     "output_type": "stream",
     "text": [
      "c:\\anaconda3\\lib\\site-packages\\sklearn\\grid_search.py:42: DeprecationWarning: This module was deprecated in version 0.18 in favor of the model_selection module into which all the refactored classes and functions are moved. This module will be removed in 0.20.\n",
      "  DeprecationWarning)\n"
     ]
    },
    {
     "data": {
      "text/plain": [
       "([mean: 0.42597, std: 0.01504, params: {'learning_rate': 0.15, 'n_estimators': 100},\n",
       "  mean: 0.41688, std: 0.01577, params: {'learning_rate': 0.15, 'n_estimators': 250},\n",
       "  mean: 0.40564, std: 0.01480, params: {'learning_rate': 0.15, 'n_estimators': 500},\n",
       "  mean: 0.39859, std: 0.01498, params: {'learning_rate': 0.15, 'n_estimators': 750},\n",
       "  mean: 0.42942, std: 0.01357, params: {'learning_rate': 0.1, 'n_estimators': 100},\n",
       "  mean: 0.42126, std: 0.01547, params: {'learning_rate': 0.1, 'n_estimators': 250},\n",
       "  mean: 0.41348, std: 0.01553, params: {'learning_rate': 0.1, 'n_estimators': 500},\n",
       "  mean: 0.40593, std: 0.01516, params: {'learning_rate': 0.1, 'n_estimators': 750},\n",
       "  mean: 0.43300, std: 0.01431, params: {'learning_rate': 0.05, 'n_estimators': 100},\n",
       "  mean: 0.42831, std: 0.01438, params: {'learning_rate': 0.05, 'n_estimators': 250},\n",
       "  mean: 0.42244, std: 0.01533, params: {'learning_rate': 0.05, 'n_estimators': 500},\n",
       "  mean: 0.41823, std: 0.01561, params: {'learning_rate': 0.05, 'n_estimators': 750},\n",
       "  mean: 0.35209, std: 0.00872, params: {'learning_rate': 0.01, 'n_estimators': 100},\n",
       "  mean: 0.42717, std: 0.01302, params: {'learning_rate': 0.01, 'n_estimators': 250},\n",
       "  mean: 0.43285, std: 0.01394, params: {'learning_rate': 0.01, 'n_estimators': 500},\n",
       "  mean: 0.43176, std: 0.01387, params: {'learning_rate': 0.01, 'n_estimators': 750}],\n",
       " {'learning_rate': 0.05, 'n_estimators': 100},\n",
       " 0.43299620016452944)"
      ]
     },
     "execution_count": 168,
     "metadata": {},
     "output_type": "execute_result"
    }
   ],
   "source": [
    "#parameter tuning \n",
    "from sklearn.grid_search import GridSearchCV\n",
    "p_test3 = {'learning_rate':[0.15,0.1,0.05,0.01], 'n_estimators':[100,250,500,750]}\n",
    "\n",
    "tuning = GridSearchCV(estimator =GradientBoostingRegressor(max_depth=4, min_samples_split=2, min_samples_leaf=1, subsample=1,max_features='sqrt', random_state=10), \n",
    "            param_grid = p_test3, scoring='explained_variance',n_jobs=4,iid=False, cv=5)\n",
    "tuning.fit(X_train,y_train)\n",
    "tuning.grid_scores_, tuning.best_params_, tuning.best_score_"
   ]
  },
  {
   "cell_type": "code",
   "execution_count": 170,
   "metadata": {},
   "outputs": [
    {
     "data": {
      "text/plain": [
       "([mean: 0.43148, std: 0.01380, params: {'max_depth': 2},\n",
       "  mean: 0.43355, std: 0.01402, params: {'max_depth': 3},\n",
       "  mean: 0.43273, std: 0.01392, params: {'max_depth': 4},\n",
       "  mean: 0.43112, std: 0.01342, params: {'max_depth': 5},\n",
       "  mean: 0.42781, std: 0.01330, params: {'max_depth': 6},\n",
       "  mean: 0.42313, std: 0.01352, params: {'max_depth': 7}],\n",
       " {'max_depth': 3},\n",
       " 0.43355478065908626)"
      ]
     },
     "execution_count": 170,
     "metadata": {},
     "output_type": "execute_result"
    }
   ],
   "source": [
    "#input parameter from previous chunk - learning rate and n_estimators\n",
    "p_test2 = {'max_depth':[2,3,4,5,6,7] }\n",
    "tuning = GridSearchCV(estimator =GradientBoostingRegressor(learning_rate=0.01,n_estimators=500,max_features='sqrt'), \n",
    "            param_grid = p_test2, scoring='explained_variance',n_jobs=4,iid=False, cv=5)\n",
    "tuning.fit(X_train,y_train)\n",
    "tuning.grid_scores_, tuning.best_params_, tuning.best_score_"
   ]
  },
  {
   "cell_type": "code",
   "execution_count": 171,
   "metadata": {},
   "outputs": [
    {
     "data": {
      "text/plain": [
       "0.40062447277350932"
      ]
     },
     "execution_count": 171,
     "metadata": {},
     "output_type": "execute_result"
    }
   ],
   "source": [
    "#Evaluation on test set \n",
    "#input max depth optimal value from previous chunk which is 2 \n",
    "model1 = GradientBoostingRegressor(learning_rate=0.05, n_estimators=100,max_depth=3)\n",
    "model1.fit(X_train,y_train)\n",
    "rmse2 = np.sqrt(mean_squared_error(y_test,model1.predict(X_test)))\n",
    "rmse2"
   ]
  },
  {
   "cell_type": "code",
   "execution_count": 173,
   "metadata": {},
   "outputs": [
    {
     "name": "stdout",
     "output_type": "stream",
     "text": [
      "name                   score\n",
      "dept_HR           0.600466\n",
      "n_subordinates    0.125886\n",
      "yrs_experience    0.105513\n",
      "dept_engineering  0.0540501\n",
      "degree_num        0.0455583\n",
      "signing_bonus     0.0236829\n",
      "dept_marketing    0.0211529\n",
      "level_num         0.00903109\n",
      "sex_F             0.00810402\n",
      "sex_M             0.00406078\n",
      "dept_sales        0.00249488\n"
     ]
    }
   ],
   "source": [
    "#Best features \n",
    "from tabulate import tabulate\n",
    "headers = [\"name\", \"score\"]\n",
    "values = sorted(zip(X_train.columns, model1.feature_importances_), key=lambda x: x[1] * -1)\n",
    "print(tabulate(values, headers, tablefmt=\"plain\"))"
   ]
  },
  {
   "cell_type": "markdown",
   "metadata": {},
   "source": [
    "Revised Linear Regressor with best features from Random Forest "
   ]
  },
  {
   "cell_type": "code",
   "execution_count": 174,
   "metadata": {},
   "outputs": [
    {
     "ename": "AttributeError",
     "evalue": "'DataFrame' object has no attribute 'level'",
     "output_type": "error",
     "traceback": [
      "\u001b[1;31m---------------------------------------------------------------------------\u001b[0m",
      "\u001b[1;31mAttributeError\u001b[0m                            Traceback (most recent call last)",
      "\u001b[1;32m<ipython-input-174-857776e95f20>\u001b[0m in \u001b[0;36m<module>\u001b[1;34m()\u001b[0m\n\u001b[1;32m----> 1\u001b[1;33m \u001b[0mX_train\u001b[0m\u001b[1;33m.\u001b[0m\u001b[0mlevel\u001b[0m\u001b[1;33m.\u001b[0m\u001b[0mvalue_counts\u001b[0m\u001b[1;33m(\u001b[0m\u001b[1;33m)\u001b[0m\u001b[1;33m\u001b[0m\u001b[0m\n\u001b[0m",
      "\u001b[1;32mc:\\anaconda3\\lib\\site-packages\\pandas\\core\\generic.py\u001b[0m in \u001b[0;36m__getattr__\u001b[1;34m(self, name)\u001b[0m\n\u001b[0;32m   3079\u001b[0m             \u001b[1;32mif\u001b[0m \u001b[0mname\u001b[0m \u001b[1;32min\u001b[0m \u001b[0mself\u001b[0m\u001b[1;33m.\u001b[0m\u001b[0m_info_axis\u001b[0m\u001b[1;33m:\u001b[0m\u001b[1;33m\u001b[0m\u001b[0m\n\u001b[0;32m   3080\u001b[0m                 \u001b[1;32mreturn\u001b[0m \u001b[0mself\u001b[0m\u001b[1;33m[\u001b[0m\u001b[0mname\u001b[0m\u001b[1;33m]\u001b[0m\u001b[1;33m\u001b[0m\u001b[0m\n\u001b[1;32m-> 3081\u001b[1;33m             \u001b[1;32mreturn\u001b[0m \u001b[0mobject\u001b[0m\u001b[1;33m.\u001b[0m\u001b[0m__getattribute__\u001b[0m\u001b[1;33m(\u001b[0m\u001b[0mself\u001b[0m\u001b[1;33m,\u001b[0m \u001b[0mname\u001b[0m\u001b[1;33m)\u001b[0m\u001b[1;33m\u001b[0m\u001b[0m\n\u001b[0m\u001b[0;32m   3082\u001b[0m \u001b[1;33m\u001b[0m\u001b[0m\n\u001b[0;32m   3083\u001b[0m     \u001b[1;32mdef\u001b[0m \u001b[0m__setattr__\u001b[0m\u001b[1;33m(\u001b[0m\u001b[0mself\u001b[0m\u001b[1;33m,\u001b[0m \u001b[0mname\u001b[0m\u001b[1;33m,\u001b[0m \u001b[0mvalue\u001b[0m\u001b[1;33m)\u001b[0m\u001b[1;33m:\u001b[0m\u001b[1;33m\u001b[0m\u001b[0m\n",
      "\u001b[1;31mAttributeError\u001b[0m: 'DataFrame' object has no attribute 'level'"
     ]
    }
   ],
   "source": [
    "X_train.level.value_counts()\n"
   ]
  },
  {
   "cell_type": "code",
   "execution_count": null,
   "metadata": {
    "collapsed": true
   },
   "outputs": [],
   "source": []
  }
 ],
 "metadata": {
  "kernelspec": {
   "display_name": "Python 3",
   "language": "python",
   "name": "python3"
  },
  "language_info": {
   "codemirror_mode": {
    "name": "ipython",
    "version": 3
   },
   "file_extension": ".py",
   "mimetype": "text/x-python",
   "name": "python",
   "nbconvert_exporter": "python",
   "pygments_lexer": "ipython3",
   "version": "3.6.2"
  }
 },
 "nbformat": 4,
 "nbformat_minor": 2
}
